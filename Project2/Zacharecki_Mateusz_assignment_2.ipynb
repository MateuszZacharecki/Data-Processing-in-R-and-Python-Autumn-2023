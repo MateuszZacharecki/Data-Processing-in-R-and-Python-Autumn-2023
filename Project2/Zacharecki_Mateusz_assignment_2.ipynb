{
 "cells": [
  {
   "cell_type": "markdown",
   "id": "2b784599",
   "metadata": {},
   "source": [
    "### Mateusz Zacharecki, 05.01.2024\n",
    "# Report for assignment 2 "
   ]
  },
  {
   "cell_type": "markdown",
   "id": "8f286deb",
   "metadata": {},
   "source": [
    "## Imports"
   ]
  },
  {
   "cell_type": "code",
   "execution_count": 1,
   "id": "df6c38cc",
   "metadata": {},
   "outputs": [],
   "source": [
    "import numpy as np\n",
    "import pandas as pd\n",
    "import os, os.path\n",
    "import sqlite3\n",
    "import tempfile"
   ]
  },
  {
   "cell_type": "code",
   "execution_count": 2,
   "id": "24ba3876",
   "metadata": {},
   "outputs": [],
   "source": [
    "from Zacharecki_Mateusz_assignment_2 import *"
   ]
  },
  {
   "cell_type": "markdown",
   "id": "5ac72c99",
   "metadata": {},
   "source": [
    "## Reading the data"
   ]
  },
  {
   "cell_type": "code",
   "execution_count": 3,
   "id": "e9b98a86",
   "metadata": {},
   "outputs": [],
   "source": [
    "Posts = pd.read_csv(\"Posts.csv.gz\", compression = \"gzip\")\n",
    "Users = pd.read_csv(\"Users.csv.gz\", compression = \"gzip\")\n",
    "Comments = pd.read_csv(\"Comments.csv.gz\", compression = \"gzip\")\n",
    "PostLinks = pd.read_csv(\"PostLinks.csv.gz\", compression = \"gzip\")"
   ]
  },
  {
   "cell_type": "markdown",
   "id": "996f5442",
   "metadata": {},
   "source": [
    "## Creation of the database"
   ]
  },
  {
   "cell_type": "code",
   "execution_count": 4,
   "id": "dcf4fc72",
   "metadata": {},
   "outputs": [
    {
     "data": {
      "text/plain": [
       "29019"
      ]
     },
     "execution_count": 4,
     "metadata": {},
     "output_type": "execute_result"
    }
   ],
   "source": [
    "# path to database file\n",
    "baza = os.path.join(tempfile.mkdtemp(), 'example.db')\n",
    "if os.path.isfile(baza): # if this file already exists...\n",
    "    os.remove(baza) # ...we will remove it\n",
    "conn = sqlite3.connect(baza) # create the connection\n",
    "\n",
    "# import the data frame into the database\n",
    "Posts.to_sql(\"Posts\", conn)\n",
    "Users.to_sql(\"Users\", conn)\n",
    "Comments.to_sql(\"Comments\", conn)\n",
    "PostLinks.to_sql(\"PostLinks\", conn)"
   ]
  },
  {
   "cell_type": "markdown",
   "id": "704fda5d",
   "metadata": {},
   "source": [
    "## Results of comparing the equivalence of solutions"
   ]
  },
  {
   "cell_type": "markdown",
   "id": "d5475209",
   "metadata": {},
   "source": [
    "### Solution 1"
   ]
  },
  {
   "cell_type": "code",
   "execution_count": 5,
   "id": "2b9dff86",
   "metadata": {},
   "outputs": [
    {
     "data": {
      "text/plain": [
       "True"
      ]
     },
     "execution_count": 5,
     "metadata": {},
     "output_type": "execute_result"
    }
   ],
   "source": [
    "pd.read_sql_query(\"\"\"\n",
    "SELECT Location, COUNT(*) AS Count\n",
    "FROM (\n",
    "    SELECT Posts.OwnerUserId, Users.Id, Users.Location\n",
    "    FROM Users\n",
    "    JOIN Posts ON Users.Id = Posts.OwnerUserId\n",
    ")\n",
    "WHERE Location NOT IN ('')\n",
    "GROUP BY Location\n",
    "ORDER BY Count DESC\n",
    "LIMIT 10\n",
    "\"\"\", conn).equals(solution_1(Posts, Users))"
   ]
  },
  {
   "cell_type": "markdown",
   "id": "31f24f27",
   "metadata": {},
   "source": [
    "### Solution 2"
   ]
  },
  {
   "cell_type": "code",
   "execution_count": 6,
   "id": "2382953d",
   "metadata": {},
   "outputs": [
    {
     "data": {
      "text/plain": [
       "True"
      ]
     },
     "execution_count": 6,
     "metadata": {},
     "output_type": "execute_result"
    }
   ],
   "source": [
    "pd.read_sql_query(\"\"\"\n",
    "SELECT Posts.Title, RelatedTab.NumLinks\n",
    "FROM\n",
    "    (\n",
    "        SELECT RelatedPostId AS PostId, COUNT(*) AS NumLinks\n",
    "        FROM PostLinks\n",
    "        GROUP BY RelatedPostId\n",
    "    ) AS RelatedTab\n",
    "JOIN Posts ON RelatedTab.PostId=Posts.Id\n",
    "WHERE Posts.PostTypeId=1\n",
    "ORDER BY NumLinks DESC\n",
    "\"\"\", conn).equals(solution_2(Posts, PostLinks))"
   ]
  },
  {
   "cell_type": "markdown",
   "id": "9567da26",
   "metadata": {},
   "source": [
    "### Solution 3"
   ]
  },
  {
   "cell_type": "code",
   "execution_count": 7,
   "id": "82648512",
   "metadata": {},
   "outputs": [
    {
     "data": {
      "text/plain": [
       "True"
      ]
     },
     "execution_count": 7,
     "metadata": {},
     "output_type": "execute_result"
    }
   ],
   "source": [
    "pd.read_sql_query(\"\"\"\n",
    "SELECT Title, CommentCount, ViewCount, CommentsTotalScore, DisplayName, Reputation, Location\n",
    "FROM (\n",
    "        SELECT Posts.OwnerUserId, Posts.Title, Posts.CommentCount, Posts.ViewCount,\n",
    "               CmtTotScr.CommentsTotalScore\n",
    "        FROM (\n",
    "                SELECT PostId, SUM(Score) AS CommentsTotalScore\n",
    "                FROM Comments\n",
    "                GROUP BY PostId\n",
    "             ) AS CmtTotScr\n",
    "        JOIN Posts ON Posts.Id = CmtTotScr.PostId\n",
    "        WHERE Posts.PostTypeId=1\n",
    "     ) AS PostsBestComments\n",
    "JOIN Users ON PostsBestComments.OwnerUserId = Users.Id\n",
    "ORDER BY CommentsTotalScore DESC\n",
    "LIMIT 10\n",
    "\"\"\", conn).equals(solution_3(Posts, Users, Comments))"
   ]
  },
  {
   "cell_type": "markdown",
   "id": "282da7cf",
   "metadata": {},
   "source": [
    "### Solution 4"
   ]
  },
  {
   "cell_type": "code",
   "execution_count": 8,
   "id": "dc6c08ff",
   "metadata": {},
   "outputs": [
    {
     "data": {
      "text/plain": [
       "True"
      ]
     },
     "execution_count": 8,
     "metadata": {},
     "output_type": "execute_result"
    }
   ],
   "source": [
    "pd.read_sql_query(\"\"\"\n",
    "SELECT DisplayName, QuestionsNumber, AnswersNumber, Location, Reputation, UpVotes, DownVotes\n",
    "FROM (\n",
    "        SELECT *\n",
    "        FROM (\n",
    "                SELECT COUNT(*) as AnswersNumber, OwnerUserId\n",
    "                FROM Posts\n",
    "                WHERE PostTypeId = 2\n",
    "                GROUP BY OwnerUserId\n",
    "             ) AS Answers\n",
    "        JOIN\n",
    "             (\n",
    "                SELECT COUNT(*) as QuestionsNumber, OwnerUserId\n",
    "                FROM Posts\n",
    "                WHERE PostTypeId = 1\n",
    "                GROUP BY OwnerUserId\n",
    "             ) AS Questions\n",
    "        ON Answers.OwnerUserId = Questions.OwnerUserId\n",
    "        WHERE AnswersNumber > QuestionsNumber\n",
    "        ORDER BY AnswersNumber DESC\n",
    "        LIMIT 5\n",
    "     ) AS PostsCounts\n",
    "JOIN Users\n",
    "ON PostsCounts.OwnerUserId = Users.Id\n",
    "\"\"\", conn).equals(solution_4(Posts, Users))"
   ]
  },
  {
   "cell_type": "markdown",
   "id": "5560a230",
   "metadata": {},
   "source": [
    "### Solution 5"
   ]
  },
  {
   "cell_type": "code",
   "execution_count": 9,
   "id": "b3bd194c",
   "metadata": {},
   "outputs": [
    {
     "data": {
      "text/plain": [
       "True"
      ]
     },
     "execution_count": 9,
     "metadata": {},
     "output_type": "execute_result"
    }
   ],
   "source": [
    "pd.read_sql_query(\"\"\"\n",
    "SELECT\n",
    "    Questions.Id,\n",
    "    Questions.Title,\n",
    "    BestAnswers.MaxScore,\n",
    "    Posts.Score AS AcceptedScore,\n",
    "    BestAnswers.MaxScore-Posts.Score AS Difference\n",
    "FROM (\n",
    "        SELECT Id, ParentId, MAX(Score) AS MaxScore\n",
    "        FROM Posts\n",
    "        WHERE PostTypeId==2\n",
    "        GROUP BY ParentId\n",
    "     ) AS BestAnswers\n",
    "JOIN (\n",
    "        SELECT * FROM Posts\n",
    "        WHERE PostTypeId==1\n",
    "     ) AS Questions\n",
    "ON Questions.Id=BestAnswers.ParentId\n",
    "JOIN Posts ON Questions.AcceptedAnswerId=Posts.Id\n",
    "WHERE Difference>50\n",
    "ORDER BY Difference DESC\n",
    "\"\"\", conn).equals(solution_5(Posts))"
   ]
  },
  {
   "cell_type": "code",
   "execution_count": 10,
   "id": "764f8ee0",
   "metadata": {},
   "outputs": [],
   "source": [
    "conn.close()"
   ]
  },
  {
   "cell_type": "markdown",
   "id": "327fa909",
   "metadata": {},
   "source": [
    "## Summary"
   ]
  },
  {
   "cell_type": "markdown",
   "id": "1d539c25",
   "metadata": {},
   "source": [
    "Gladly, we get all solutions equivalent to SQL query results. Both SQL and Python code execution time seem to work pretty fast, especially read_sql_query function from Pandas seems to work much better than sqldf function in R. Although in this assignment it was necessary to take care of indices due to how equals functions works, working with Pandas was quite a pleasure for me."
   ]
  },
  {
   "cell_type": "code",
   "execution_count": null,
   "id": "7b825cdd",
   "metadata": {},
   "outputs": [],
   "source": []
  }
 ],
 "metadata": {
  "kernelspec": {
   "display_name": "Python 3 (ipykernel)",
   "language": "python",
   "name": "python3"
  },
  "language_info": {
   "codemirror_mode": {
    "name": "ipython",
    "version": 3
   },
   "file_extension": ".py",
   "mimetype": "text/x-python",
   "name": "python",
   "nbconvert_exporter": "python",
   "pygments_lexer": "ipython3",
   "version": "3.9.13"
  }
 },
 "nbformat": 4,
 "nbformat_minor": 5
}
